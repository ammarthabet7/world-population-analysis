{
  "nbformat": 4,
  "nbformat_minor": 0,
  "metadata": {
    "colab": {
      "provenance": [],
      "collapsed_sections": [
        "XFt-Tux_sjtf",
        "cfFkO4Xosup_",
        "IacC5IxvsxtO",
        "gvcYDEbSlLGr"
      ]
    },
    "kernelspec": {
      "name": "python3",
      "display_name": "Python 3"
    },
    "language_info": {
      "name": "python"
    }
  },
  "cells": [
    {
      "cell_type": "markdown",
      "source": [
        "![applai.jpg](data:image/jpeg;base64,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)"
      ],
      "metadata": {
        "id": "hnqR9T8ZoXHg"
      }
    },
    {
      "cell_type": "markdown",
      "source": [
        "# quick overview"
      ],
      "metadata": {
        "id": "XFt-Tux_sjtf"
      }
    },
    {
      "cell_type": "markdown",
      "source": [
        "**Data describtion**:\n",
        "\n",
        "-  **CCA3**: 3 Digit Country/Territories Code.\n",
        "-  **Rank**: Rank by Population.\n",
        "-  **2021 Population**: Population of the Country/Territories in the year 2021.\n",
        "-  **2020 Population**: Population of the Country/Territories in the year 2020.\n",
        "-  **Area (km²)**: Area size of the Country/Territories in square kilometer.\n",
        "-  **Density (per km²)**: Population Density per square kilometer.\n",
        "-  **Growth Rate**: Population Growth Rate by Country/Territories.\n",
        "-  **World Population Percentage**: The population percentage by each Country/Territories."
      ],
      "metadata": {
        "id": "c_CCatPzkGbg"
      }
    },
    {
      "cell_type": "code",
      "execution_count": null,
      "metadata": {
        "id": "SrA8WqJ5kAyc"
      },
      "outputs": [],
      "source": [
        "import pandas as pd\n",
        "import numpy as np\n",
        "import matplotlib.pyplot as plt\n",
        "import seaborn as sns\n"
      ]
    },
    {
      "cell_type": "code",
      "source": [
        "df=pd.read_csv(\"/content/2021_population.csv\")"
      ],
      "metadata": {
        "id": "zYpfoeNpkLVa"
      },
      "execution_count": null,
      "outputs": []
    },
    {
      "cell_type": "code",
      "source": [
        "#renaming our features to a describtive\n",
        "df = df.rename(columns={'country': 'country name', '2021_last_updated': '2021 population' , 'density_sq_km':'density sq km', 'growth_rate':'growth rate' , 'world_%': 'population ratio' ,'2020_population': \"2020 population\"  })"
      ],
      "metadata": {
        "id": "A0mLNWTWpfSK"
      },
      "execution_count": null,
      "outputs": []
    },
    {
      "cell_type": "code",
      "source": [
        "df.head()"
      ],
      "metadata": {
        "colab": {
          "base_uri": "https://localhost:8080/"
        },
        "id": "oYpSzebtkX6K",
        "outputId": "5f607d6f-9c4d-4c2f-bb5b-a27974f700a8"
      },
      "execution_count": null,
      "outputs": [
        {
          "output_type": "execute_result",
          "data": {
            "text/plain": [
              "  iso_code   country name 2021 population 2020 population             area  \\\n",
              "0      CHN          China   1,446,364,682   1,439,323,776  9,706,961 sq_km   \n",
              "1      IND          India   1,399,367,516   1,380,004,385  3,287,590 sq_km   \n",
              "2      USA  United States     333,777,266     331,002,651  9,372,610 sq_km   \n",
              "3      IDN      Indonesia     277,625,249     273,523,615  1,904,569 sq_km   \n",
              "4      PAK       Pakistan     227,103,913     220,892,340    881,912 sq_km   \n",
              "\n",
              "  density sq km growth rate population ratio  rank  \n",
              "0     149/sq_km       0.34%           18.34%     1  \n",
              "1     424/sq_km       0.97%           17.69%     2  \n",
              "2      36/sq_km       0.58%            4.23%     3  \n",
              "3     145/sq_km       1.04%            3.51%     4  \n",
              "4     255/sq_km       1.95%            2.86%     5  "
            ],
            "text/html": [
              "\n",
              "  <div id=\"df-1eda14c3-607d-4afc-9c7c-f3c019c008d3\">\n",
              "    <div class=\"colab-df-container\">\n",
              "      <div>\n",
              "<style scoped>\n",
              "    .dataframe tbody tr th:only-of-type {\n",
              "        vertical-align: middle;\n",
              "    }\n",
              "\n",
              "    .dataframe tbody tr th {\n",
              "        vertical-align: top;\n",
              "    }\n",
              "\n",
              "    .dataframe thead th {\n",
              "        text-align: right;\n",
              "    }\n",
              "</style>\n",
              "<table border=\"1\" class=\"dataframe\">\n",
              "  <thead>\n",
              "    <tr style=\"text-align: right;\">\n",
              "      <th></th>\n",
              "      <th>iso_code</th>\n",
              "      <th>country name</th>\n",
              "      <th>2021 population</th>\n",
              "      <th>2020 population</th>\n",
              "      <th>area</th>\n",
              "      <th>density sq km</th>\n",
              "      <th>growth rate</th>\n",
              "      <th>population ratio</th>\n",
              "      <th>rank</th>\n",
              "    </tr>\n",
              "  </thead>\n",
              "  <tbody>\n",
              "    <tr>\n",
              "      <th>0</th>\n",
              "      <td>CHN</td>\n",
              "      <td>China</td>\n",
              "      <td>1,446,364,682</td>\n",
              "      <td>1,439,323,776</td>\n",
              "      <td>9,706,961 sq_km</td>\n",
              "      <td>149/sq_km</td>\n",
              "      <td>0.34%</td>\n",
              "      <td>18.34%</td>\n",
              "      <td>1</td>\n",
              "    </tr>\n",
              "    <tr>\n",
              "      <th>1</th>\n",
              "      <td>IND</td>\n",
              "      <td>India</td>\n",
              "      <td>1,399,367,516</td>\n",
              "      <td>1,380,004,385</td>\n",
              "      <td>3,287,590 sq_km</td>\n",
              "      <td>424/sq_km</td>\n",
              "      <td>0.97%</td>\n",
              "      <td>17.69%</td>\n",
              "      <td>2</td>\n",
              "    </tr>\n",
              "    <tr>\n",
              "      <th>2</th>\n",
              "      <td>USA</td>\n",
              "      <td>United States</td>\n",
              "      <td>333,777,266</td>\n",
              "      <td>331,002,651</td>\n",
              "      <td>9,372,610 sq_km</td>\n",
              "      <td>36/sq_km</td>\n",
              "      <td>0.58%</td>\n",
              "      <td>4.23%</td>\n",
              "      <td>3</td>\n",
              "    </tr>\n",
              "    <tr>\n",
              "      <th>3</th>\n",
              "      <td>IDN</td>\n",
              "      <td>Indonesia</td>\n",
              "      <td>277,625,249</td>\n",
              "      <td>273,523,615</td>\n",
              "      <td>1,904,569 sq_km</td>\n",
              "      <td>145/sq_km</td>\n",
              "      <td>1.04%</td>\n",
              "      <td>3.51%</td>\n",
              "      <td>4</td>\n",
              "    </tr>\n",
              "    <tr>\n",
              "      <th>4</th>\n",
              "      <td>PAK</td>\n",
              "      <td>Pakistan</td>\n",
              "      <td>227,103,913</td>\n",
              "      <td>220,892,340</td>\n",
              "      <td>881,912 sq_km</td>\n",
              "      <td>255/sq_km</td>\n",
              "      <td>1.95%</td>\n",
              "      <td>2.86%</td>\n",
              "      <td>5</td>\n",
              "    </tr>\n",
              "  </tbody>\n",
              "</table>\n",
              "</div>\n",
              "      <button class=\"colab-df-convert\" onclick=\"convertToInteractive('df-1eda14c3-607d-4afc-9c7c-f3c019c008d3')\"\n",
              "              title=\"Convert this dataframe to an interactive table.\"\n",
              "              style=\"display:none;\">\n",
              "        \n",
              "  <svg xmlns=\"http://www.w3.org/2000/svg\" height=\"24px\"viewBox=\"0 0 24 24\"\n",
              "       width=\"24px\">\n",
              "    <path d=\"M0 0h24v24H0V0z\" fill=\"none\"/>\n",
              "    <path d=\"M18.56 5.44l.94 2.06.94-2.06 2.06-.94-2.06-.94-.94-2.06-.94 2.06-2.06.94zm-11 1L8.5 8.5l.94-2.06 2.06-.94-2.06-.94L8.5 2.5l-.94 2.06-2.06.94zm10 10l.94 2.06.94-2.06 2.06-.94-2.06-.94-.94-2.06-.94 2.06-2.06.94z\"/><path d=\"M17.41 7.96l-1.37-1.37c-.4-.4-.92-.59-1.43-.59-.52 0-1.04.2-1.43.59L10.3 9.45l-7.72 7.72c-.78.78-.78 2.05 0 2.83L4 21.41c.39.39.9.59 1.41.59.51 0 1.02-.2 1.41-.59l7.78-7.78 2.81-2.81c.8-.78.8-2.07 0-2.86zM5.41 20L4 18.59l7.72-7.72 1.47 1.35L5.41 20z\"/>\n",
              "  </svg>\n",
              "      </button>\n",
              "      \n",
              "  <style>\n",
              "    .colab-df-container {\n",
              "      display:flex;\n",
              "      flex-wrap:wrap;\n",
              "      gap: 12px;\n",
              "    }\n",
              "\n",
              "    .colab-df-convert {\n",
              "      background-color: #E8F0FE;\n",
              "      border: none;\n",
              "      border-radius: 50%;\n",
              "      cursor: pointer;\n",
              "      display: none;\n",
              "      fill: #1967D2;\n",
              "      height: 32px;\n",
              "      padding: 0 0 0 0;\n",
              "      width: 32px;\n",
              "    }\n",
              "\n",
              "    .colab-df-convert:hover {\n",
              "      background-color: #E2EBFA;\n",
              "      box-shadow: 0px 1px 2px rgba(60, 64, 67, 0.3), 0px 1px 3px 1px rgba(60, 64, 67, 0.15);\n",
              "      fill: #174EA6;\n",
              "    }\n",
              "\n",
              "    [theme=dark] .colab-df-convert {\n",
              "      background-color: #3B4455;\n",
              "      fill: #D2E3FC;\n",
              "    }\n",
              "\n",
              "    [theme=dark] .colab-df-convert:hover {\n",
              "      background-color: #434B5C;\n",
              "      box-shadow: 0px 1px 3px 1px rgba(0, 0, 0, 0.15);\n",
              "      filter: drop-shadow(0px 1px 2px rgba(0, 0, 0, 0.3));\n",
              "      fill: #FFFFFF;\n",
              "    }\n",
              "  </style>\n",
              "\n",
              "      <script>\n",
              "        const buttonEl =\n",
              "          document.querySelector('#df-1eda14c3-607d-4afc-9c7c-f3c019c008d3 button.colab-df-convert');\n",
              "        buttonEl.style.display =\n",
              "          google.colab.kernel.accessAllowed ? 'block' : 'none';\n",
              "\n",
              "        async function convertToInteractive(key) {\n",
              "          const element = document.querySelector('#df-1eda14c3-607d-4afc-9c7c-f3c019c008d3');\n",
              "          const dataTable =\n",
              "            await google.colab.kernel.invokeFunction('convertToInteractive',\n",
              "                                                     [key], {});\n",
              "          if (!dataTable) return;\n",
              "\n",
              "          const docLinkHtml = 'Like what you see? Visit the ' +\n",
              "            '<a target=\"_blank\" href=https://colab.research.google.com/notebooks/data_table.ipynb>data table notebook</a>'\n",
              "            + ' to learn more about interactive tables.';\n",
              "          element.innerHTML = '';\n",
              "          dataTable['output_type'] = 'display_data';\n",
              "          await google.colab.output.renderOutput(dataTable, element);\n",
              "          const docLink = document.createElement('div');\n",
              "          docLink.innerHTML = docLinkHtml;\n",
              "          element.appendChild(docLink);\n",
              "        }\n",
              "      </script>\n",
              "    </div>\n",
              "  </div>\n",
              "  "
            ]
          },
          "metadata": {},
          "execution_count": 4
        }
      ]
    },
    {
      "cell_type": "code",
      "source": [
        "df.shape"
      ],
      "metadata": {
        "colab": {
          "base_uri": "https://localhost:8080/"
        },
        "id": "qjp0ZOEjm_ED",
        "outputId": "66f026fe-1bdd-4eee-9f05-683f73a18045"
      },
      "execution_count": null,
      "outputs": [
        {
          "output_type": "execute_result",
          "data": {
            "text/plain": [
              "(224, 9)"
            ]
          },
          "metadata": {},
          "execution_count": 5
        }
      ]
    },
    {
      "cell_type": "markdown",
      "source": [
        "we dont need both iso code and country name so, we will use the name only"
      ],
      "metadata": {
        "id": "mfAT4pYDme06"
      }
    },
    {
      "cell_type": "code",
      "source": [
        "df.drop(\"iso_code\",axis=1,inplace =True)"
      ],
      "metadata": {
        "id": "8MwU-2NOkZS9"
      },
      "execution_count": null,
      "outputs": []
    },
    {
      "cell_type": "markdown",
      "source": [
        "# data types"
      ],
      "metadata": {
        "id": "cfFkO4Xosup_"
      }
    },
    {
      "cell_type": "code",
      "source": [
        "df.info()"
      ],
      "metadata": {
        "colab": {
          "base_uri": "https://localhost:8080/"
        },
        "id": "QgRD22KPm2VC",
        "outputId": "3cbae87a-cc85-4500-9032-44044fe8bd75"
      },
      "execution_count": null,
      "outputs": [
        {
          "output_type": "stream",
          "name": "stdout",
          "text": [
            "<class 'pandas.core.frame.DataFrame'>\n",
            "RangeIndex: 224 entries, 0 to 223\n",
            "Data columns (total 8 columns):\n",
            " #   Column            Non-Null Count  Dtype \n",
            "---  ------            --------------  ----- \n",
            " 0   country name      224 non-null    object\n",
            " 1   2021 population   224 non-null    object\n",
            " 2   2020 population   224 non-null    object\n",
            " 3   area              224 non-null    object\n",
            " 4   density sq km     224 non-null    object\n",
            " 5   growth rate       224 non-null    object\n",
            " 6   population ratio  224 non-null    object\n",
            " 7   rank              224 non-null    int64 \n",
            "dtypes: int64(1), object(7)\n",
            "memory usage: 14.1+ KB\n"
          ]
        }
      ]
    },
    {
      "cell_type": "markdown",
      "source": [
        "we shall try to handle our data types"
      ],
      "metadata": {
        "id": "r0xO8bkXnZ1r"
      }
    },
    {
      "cell_type": "code",
      "source": [
        "def replace(data, col_name):\n",
        "\n",
        "    data[col_name] = data[col_name].str.replace(',' , '')\n",
        "    data[col_name] = data[col_name].str.replace(\"/sq_km\", \"\")\n",
        "    data[col_name] = data[col_name].str.replace(\"sq_km\", \"\")\n",
        "    data[col_name] = data[col_name].str.replace(\"%\", \"\")\n",
        "    data[col_name] = pd.to_numeric(data[col_name])"
      ],
      "metadata": {
        "id": "325JNOu-m4Z7"
      },
      "execution_count": null,
      "outputs": []
    },
    {
      "cell_type": "code",
      "source": [
        "replace(df, '2021 population')\n",
        "replace(df, '2020 population')\n",
        "replace(df, 'area')\n",
        "replace(df, 'growth rate')\n",
        "replace(df, 'population ratio')\n",
        "replace(df, 'density sq km')"
      ],
      "metadata": {
        "id": "0xb-3jCCoryp"
      },
      "execution_count": null,
      "outputs": []
    },
    {
      "cell_type": "code",
      "source": [
        "df.describe()"
      ],
      "metadata": {
        "colab": {
          "base_uri": "https://localhost:8080/"
        },
        "id": "TqS84K4so3TC",
        "outputId": "5704d4d3-6134-4bd5-9c3a-2a87ee3d06ac"
      },
      "execution_count": null,
      "outputs": [
        {
          "output_type": "execute_result",
          "data": {
            "text/plain": [
              "       2021 population  2020 population          area  density sq km  \\\n",
              "count     2.240000e+02     2.240000e+02  2.240000e+02     224.000000   \n",
              "mean      3.486105e+07     3.436352e+07  5.949485e+05     462.174107   \n",
              "std       1.395603e+08     1.382031e+08  1.793677e+06    2114.519435   \n",
              "min       8.000000e+02     8.010000e+02  1.000000e+00       0.000000   \n",
              "25%       5.866808e+05     5.789708e+05  4.889250e+03      35.750000   \n",
              "50%       6.037210e+06     5.940771e+06  8.523550e+04      95.500000   \n",
              "75%       2.228932e+07     2.201413e+07  4.467625e+05     240.000000   \n",
              "max       1.446365e+09     1.439324e+09  1.709824e+07   21946.000000   \n",
              "\n",
              "       growth rate  population ratio        rank  \n",
              "count   224.000000         224.00000  224.000000  \n",
              "mean      1.057946           0.44067  115.013393  \n",
              "std       1.053640           1.76677   66.844876  \n",
              "min      -1.290000           0.00000    1.000000  \n",
              "25%       0.295000           0.01000   57.750000  \n",
              "50%       0.920000           0.07500  113.500000  \n",
              "75%       1.770000           0.27750  171.250000  \n",
              "max       4.430000          18.34000  232.000000  "
            ],
            "text/html": [
              "\n",
              "  <div id=\"df-6ee84778-e3bf-4ef7-aa82-b79e549c3ea1\">\n",
              "    <div class=\"colab-df-container\">\n",
              "      <div>\n",
              "<style scoped>\n",
              "    .dataframe tbody tr th:only-of-type {\n",
              "        vertical-align: middle;\n",
              "    }\n",
              "\n",
              "    .dataframe tbody tr th {\n",
              "        vertical-align: top;\n",
              "    }\n",
              "\n",
              "    .dataframe thead th {\n",
              "        text-align: right;\n",
              "    }\n",
              "</style>\n",
              "<table border=\"1\" class=\"dataframe\">\n",
              "  <thead>\n",
              "    <tr style=\"text-align: right;\">\n",
              "      <th></th>\n",
              "      <th>2021 population</th>\n",
              "      <th>2020 population</th>\n",
              "      <th>area</th>\n",
              "      <th>density sq km</th>\n",
              "      <th>growth rate</th>\n",
              "      <th>population ratio</th>\n",
              "      <th>rank</th>\n",
              "    </tr>\n",
              "  </thead>\n",
              "  <tbody>\n",
              "    <tr>\n",
              "      <th>count</th>\n",
              "      <td>2.240000e+02</td>\n",
              "      <td>2.240000e+02</td>\n",
              "      <td>2.240000e+02</td>\n",
              "      <td>224.000000</td>\n",
              "      <td>224.000000</td>\n",
              "      <td>224.00000</td>\n",
              "      <td>224.000000</td>\n",
              "    </tr>\n",
              "    <tr>\n",
              "      <th>mean</th>\n",
              "      <td>3.486105e+07</td>\n",
              "      <td>3.436352e+07</td>\n",
              "      <td>5.949485e+05</td>\n",
              "      <td>462.174107</td>\n",
              "      <td>1.057946</td>\n",
              "      <td>0.44067</td>\n",
              "      <td>115.013393</td>\n",
              "    </tr>\n",
              "    <tr>\n",
              "      <th>std</th>\n",
              "      <td>1.395603e+08</td>\n",
              "      <td>1.382031e+08</td>\n",
              "      <td>1.793677e+06</td>\n",
              "      <td>2114.519435</td>\n",
              "      <td>1.053640</td>\n",
              "      <td>1.76677</td>\n",
              "      <td>66.844876</td>\n",
              "    </tr>\n",
              "    <tr>\n",
              "      <th>min</th>\n",
              "      <td>8.000000e+02</td>\n",
              "      <td>8.010000e+02</td>\n",
              "      <td>1.000000e+00</td>\n",
              "      <td>0.000000</td>\n",
              "      <td>-1.290000</td>\n",
              "      <td>0.00000</td>\n",
              "      <td>1.000000</td>\n",
              "    </tr>\n",
              "    <tr>\n",
              "      <th>25%</th>\n",
              "      <td>5.866808e+05</td>\n",
              "      <td>5.789708e+05</td>\n",
              "      <td>4.889250e+03</td>\n",
              "      <td>35.750000</td>\n",
              "      <td>0.295000</td>\n",
              "      <td>0.01000</td>\n",
              "      <td>57.750000</td>\n",
              "    </tr>\n",
              "    <tr>\n",
              "      <th>50%</th>\n",
              "      <td>6.037210e+06</td>\n",
              "      <td>5.940771e+06</td>\n",
              "      <td>8.523550e+04</td>\n",
              "      <td>95.500000</td>\n",
              "      <td>0.920000</td>\n",
              "      <td>0.07500</td>\n",
              "      <td>113.500000</td>\n",
              "    </tr>\n",
              "    <tr>\n",
              "      <th>75%</th>\n",
              "      <td>2.228932e+07</td>\n",
              "      <td>2.201413e+07</td>\n",
              "      <td>4.467625e+05</td>\n",
              "      <td>240.000000</td>\n",
              "      <td>1.770000</td>\n",
              "      <td>0.27750</td>\n",
              "      <td>171.250000</td>\n",
              "    </tr>\n",
              "    <tr>\n",
              "      <th>max</th>\n",
              "      <td>1.446365e+09</td>\n",
              "      <td>1.439324e+09</td>\n",
              "      <td>1.709824e+07</td>\n",
              "      <td>21946.000000</td>\n",
              "      <td>4.430000</td>\n",
              "      <td>18.34000</td>\n",
              "      <td>232.000000</td>\n",
              "    </tr>\n",
              "  </tbody>\n",
              "</table>\n",
              "</div>\n",
              "      <button class=\"colab-df-convert\" onclick=\"convertToInteractive('df-6ee84778-e3bf-4ef7-aa82-b79e549c3ea1')\"\n",
              "              title=\"Convert this dataframe to an interactive table.\"\n",
              "              style=\"display:none;\">\n",
              "        \n",
              "  <svg xmlns=\"http://www.w3.org/2000/svg\" height=\"24px\"viewBox=\"0 0 24 24\"\n",
              "       width=\"24px\">\n",
              "    <path d=\"M0 0h24v24H0V0z\" fill=\"none\"/>\n",
              "    <path d=\"M18.56 5.44l.94 2.06.94-2.06 2.06-.94-2.06-.94-.94-2.06-.94 2.06-2.06.94zm-11 1L8.5 8.5l.94-2.06 2.06-.94-2.06-.94L8.5 2.5l-.94 2.06-2.06.94zm10 10l.94 2.06.94-2.06 2.06-.94-2.06-.94-.94-2.06-.94 2.06-2.06.94z\"/><path d=\"M17.41 7.96l-1.37-1.37c-.4-.4-.92-.59-1.43-.59-.52 0-1.04.2-1.43.59L10.3 9.45l-7.72 7.72c-.78.78-.78 2.05 0 2.83L4 21.41c.39.39.9.59 1.41.59.51 0 1.02-.2 1.41-.59l7.78-7.78 2.81-2.81c.8-.78.8-2.07 0-2.86zM5.41 20L4 18.59l7.72-7.72 1.47 1.35L5.41 20z\"/>\n",
              "  </svg>\n",
              "      </button>\n",
              "      \n",
              "  <style>\n",
              "    .colab-df-container {\n",
              "      display:flex;\n",
              "      flex-wrap:wrap;\n",
              "      gap: 12px;\n",
              "    }\n",
              "\n",
              "    .colab-df-convert {\n",
              "      background-color: #E8F0FE;\n",
              "      border: none;\n",
              "      border-radius: 50%;\n",
              "      cursor: pointer;\n",
              "      display: none;\n",
              "      fill: #1967D2;\n",
              "      height: 32px;\n",
              "      padding: 0 0 0 0;\n",
              "      width: 32px;\n",
              "    }\n",
              "\n",
              "    .colab-df-convert:hover {\n",
              "      background-color: #E2EBFA;\n",
              "      box-shadow: 0px 1px 2px rgba(60, 64, 67, 0.3), 0px 1px 3px 1px rgba(60, 64, 67, 0.15);\n",
              "      fill: #174EA6;\n",
              "    }\n",
              "\n",
              "    [theme=dark] .colab-df-convert {\n",
              "      background-color: #3B4455;\n",
              "      fill: #D2E3FC;\n",
              "    }\n",
              "\n",
              "    [theme=dark] .colab-df-convert:hover {\n",
              "      background-color: #434B5C;\n",
              "      box-shadow: 0px 1px 3px 1px rgba(0, 0, 0, 0.15);\n",
              "      filter: drop-shadow(0px 1px 2px rgba(0, 0, 0, 0.3));\n",
              "      fill: #FFFFFF;\n",
              "    }\n",
              "  </style>\n",
              "\n",
              "      <script>\n",
              "        const buttonEl =\n",
              "          document.querySelector('#df-6ee84778-e3bf-4ef7-aa82-b79e549c3ea1 button.colab-df-convert');\n",
              "        buttonEl.style.display =\n",
              "          google.colab.kernel.accessAllowed ? 'block' : 'none';\n",
              "\n",
              "        async function convertToInteractive(key) {\n",
              "          const element = document.querySelector('#df-6ee84778-e3bf-4ef7-aa82-b79e549c3ea1');\n",
              "          const dataTable =\n",
              "            await google.colab.kernel.invokeFunction('convertToInteractive',\n",
              "                                                     [key], {});\n",
              "          if (!dataTable) return;\n",
              "\n",
              "          const docLinkHtml = 'Like what you see? Visit the ' +\n",
              "            '<a target=\"_blank\" href=https://colab.research.google.com/notebooks/data_table.ipynb>data table notebook</a>'\n",
              "            + ' to learn more about interactive tables.';\n",
              "          element.innerHTML = '';\n",
              "          dataTable['output_type'] = 'display_data';\n",
              "          await google.colab.output.renderOutput(dataTable, element);\n",
              "          const docLink = document.createElement('div');\n",
              "          docLink.innerHTML = docLinkHtml;\n",
              "          element.appendChild(docLink);\n",
              "        }\n",
              "      </script>\n",
              "    </div>\n",
              "  </div>\n",
              "  "
            ]
          },
          "metadata": {},
          "execution_count": 10
        }
      ]
    },
    {
      "cell_type": "code",
      "source": [
        "df.head()"
      ],
      "metadata": {
        "colab": {
          "base_uri": "https://localhost:8080/"
        },
        "id": "-z2x8-eurWlE",
        "outputId": "fa859b03-f5fc-481d-fb72-87f1b654c266"
      },
      "execution_count": null,
      "outputs": [
        {
          "output_type": "execute_result",
          "data": {
            "text/plain": [
              "    country name  2021 population  2020 population     area  density sq km  \\\n",
              "0          China       1446364682       1439323776  9706961            149   \n",
              "1          India       1399367516       1380004385  3287590            424   \n",
              "2  United States        333777266        331002651  9372610             36   \n",
              "3      Indonesia        277625249        273523615  1904569            145   \n",
              "4       Pakistan        227103913        220892340   881912            255   \n",
              "\n",
              "   growth rate  population ratio  rank  \n",
              "0         0.34             18.34     1  \n",
              "1         0.97             17.69     2  \n",
              "2         0.58              4.23     3  \n",
              "3         1.04              3.51     4  \n",
              "4         1.95              2.86     5  "
            ],
            "text/html": [
              "\n",
              "  <div id=\"df-20cf3de1-7074-49f9-a142-a0cc86a81264\">\n",
              "    <div class=\"colab-df-container\">\n",
              "      <div>\n",
              "<style scoped>\n",
              "    .dataframe tbody tr th:only-of-type {\n",
              "        vertical-align: middle;\n",
              "    }\n",
              "\n",
              "    .dataframe tbody tr th {\n",
              "        vertical-align: top;\n",
              "    }\n",
              "\n",
              "    .dataframe thead th {\n",
              "        text-align: right;\n",
              "    }\n",
              "</style>\n",
              "<table border=\"1\" class=\"dataframe\">\n",
              "  <thead>\n",
              "    <tr style=\"text-align: right;\">\n",
              "      <th></th>\n",
              "      <th>country name</th>\n",
              "      <th>2021 population</th>\n",
              "      <th>2020 population</th>\n",
              "      <th>area</th>\n",
              "      <th>density sq km</th>\n",
              "      <th>growth rate</th>\n",
              "      <th>population ratio</th>\n",
              "      <th>rank</th>\n",
              "    </tr>\n",
              "  </thead>\n",
              "  <tbody>\n",
              "    <tr>\n",
              "      <th>0</th>\n",
              "      <td>China</td>\n",
              "      <td>1446364682</td>\n",
              "      <td>1439323776</td>\n",
              "      <td>9706961</td>\n",
              "      <td>149</td>\n",
              "      <td>0.34</td>\n",
              "      <td>18.34</td>\n",
              "      <td>1</td>\n",
              "    </tr>\n",
              "    <tr>\n",
              "      <th>1</th>\n",
              "      <td>India</td>\n",
              "      <td>1399367516</td>\n",
              "      <td>1380004385</td>\n",
              "      <td>3287590</td>\n",
              "      <td>424</td>\n",
              "      <td>0.97</td>\n",
              "      <td>17.69</td>\n",
              "      <td>2</td>\n",
              "    </tr>\n",
              "    <tr>\n",
              "      <th>2</th>\n",
              "      <td>United States</td>\n",
              "      <td>333777266</td>\n",
              "      <td>331002651</td>\n",
              "      <td>9372610</td>\n",
              "      <td>36</td>\n",
              "      <td>0.58</td>\n",
              "      <td>4.23</td>\n",
              "      <td>3</td>\n",
              "    </tr>\n",
              "    <tr>\n",
              "      <th>3</th>\n",
              "      <td>Indonesia</td>\n",
              "      <td>277625249</td>\n",
              "      <td>273523615</td>\n",
              "      <td>1904569</td>\n",
              "      <td>145</td>\n",
              "      <td>1.04</td>\n",
              "      <td>3.51</td>\n",
              "      <td>4</td>\n",
              "    </tr>\n",
              "    <tr>\n",
              "      <th>4</th>\n",
              "      <td>Pakistan</td>\n",
              "      <td>227103913</td>\n",
              "      <td>220892340</td>\n",
              "      <td>881912</td>\n",
              "      <td>255</td>\n",
              "      <td>1.95</td>\n",
              "      <td>2.86</td>\n",
              "      <td>5</td>\n",
              "    </tr>\n",
              "  </tbody>\n",
              "</table>\n",
              "</div>\n",
              "      <button class=\"colab-df-convert\" onclick=\"convertToInteractive('df-20cf3de1-7074-49f9-a142-a0cc86a81264')\"\n",
              "              title=\"Convert this dataframe to an interactive table.\"\n",
              "              style=\"display:none;\">\n",
              "        \n",
              "  <svg xmlns=\"http://www.w3.org/2000/svg\" height=\"24px\"viewBox=\"0 0 24 24\"\n",
              "       width=\"24px\">\n",
              "    <path d=\"M0 0h24v24H0V0z\" fill=\"none\"/>\n",
              "    <path d=\"M18.56 5.44l.94 2.06.94-2.06 2.06-.94-2.06-.94-.94-2.06-.94 2.06-2.06.94zm-11 1L8.5 8.5l.94-2.06 2.06-.94-2.06-.94L8.5 2.5l-.94 2.06-2.06.94zm10 10l.94 2.06.94-2.06 2.06-.94-2.06-.94-.94-2.06-.94 2.06-2.06.94z\"/><path d=\"M17.41 7.96l-1.37-1.37c-.4-.4-.92-.59-1.43-.59-.52 0-1.04.2-1.43.59L10.3 9.45l-7.72 7.72c-.78.78-.78 2.05 0 2.83L4 21.41c.39.39.9.59 1.41.59.51 0 1.02-.2 1.41-.59l7.78-7.78 2.81-2.81c.8-.78.8-2.07 0-2.86zM5.41 20L4 18.59l7.72-7.72 1.47 1.35L5.41 20z\"/>\n",
              "  </svg>\n",
              "      </button>\n",
              "      \n",
              "  <style>\n",
              "    .colab-df-container {\n",
              "      display:flex;\n",
              "      flex-wrap:wrap;\n",
              "      gap: 12px;\n",
              "    }\n",
              "\n",
              "    .colab-df-convert {\n",
              "      background-color: #E8F0FE;\n",
              "      border: none;\n",
              "      border-radius: 50%;\n",
              "      cursor: pointer;\n",
              "      display: none;\n",
              "      fill: #1967D2;\n",
              "      height: 32px;\n",
              "      padding: 0 0 0 0;\n",
              "      width: 32px;\n",
              "    }\n",
              "\n",
              "    .colab-df-convert:hover {\n",
              "      background-color: #E2EBFA;\n",
              "      box-shadow: 0px 1px 2px rgba(60, 64, 67, 0.3), 0px 1px 3px 1px rgba(60, 64, 67, 0.15);\n",
              "      fill: #174EA6;\n",
              "    }\n",
              "\n",
              "    [theme=dark] .colab-df-convert {\n",
              "      background-color: #3B4455;\n",
              "      fill: #D2E3FC;\n",
              "    }\n",
              "\n",
              "    [theme=dark] .colab-df-convert:hover {\n",
              "      background-color: #434B5C;\n",
              "      box-shadow: 0px 1px 3px 1px rgba(0, 0, 0, 0.15);\n",
              "      filter: drop-shadow(0px 1px 2px rgba(0, 0, 0, 0.3));\n",
              "      fill: #FFFFFF;\n",
              "    }\n",
              "  </style>\n",
              "\n",
              "      <script>\n",
              "        const buttonEl =\n",
              "          document.querySelector('#df-20cf3de1-7074-49f9-a142-a0cc86a81264 button.colab-df-convert');\n",
              "        buttonEl.style.display =\n",
              "          google.colab.kernel.accessAllowed ? 'block' : 'none';\n",
              "\n",
              "        async function convertToInteractive(key) {\n",
              "          const element = document.querySelector('#df-20cf3de1-7074-49f9-a142-a0cc86a81264');\n",
              "          const dataTable =\n",
              "            await google.colab.kernel.invokeFunction('convertToInteractive',\n",
              "                                                     [key], {});\n",
              "          if (!dataTable) return;\n",
              "\n",
              "          const docLinkHtml = 'Like what you see? Visit the ' +\n",
              "            '<a target=\"_blank\" href=https://colab.research.google.com/notebooks/data_table.ipynb>data table notebook</a>'\n",
              "            + ' to learn more about interactive tables.';\n",
              "          element.innerHTML = '';\n",
              "          dataTable['output_type'] = 'display_data';\n",
              "          await google.colab.output.renderOutput(dataTable, element);\n",
              "          const docLink = document.createElement('div');\n",
              "          docLink.innerHTML = docLinkHtml;\n",
              "          element.appendChild(docLink);\n",
              "        }\n",
              "      </script>\n",
              "    </div>\n",
              "  </div>\n",
              "  "
            ]
          },
          "metadata": {},
          "execution_count": 11
        }
      ]
    },
    {
      "cell_type": "markdown",
      "source": [
        "# outliers"
      ],
      "metadata": {
        "id": "IacC5IxvsxtO"
      }
    },
    {
      "cell_type": "code",
      "source": [
        "columns = ['2021 population', '2020 population', 'area','density sq km', 'growth rate', 'population ratio', 'rank']\n",
        "for col in columns:\n",
        "    # calculate interquartile range\n",
        "    q25, q75 = np.percentile(df[col], 25), np.percentile(df[col], 75)\n",
        "    iqr = q75 - q25\n",
        "    # calculate the outlier cutoff\n",
        "    cut_off = iqr * 1.5\n",
        "    lower, upper = q25 - cut_off, q75 + cut_off\n",
        "    # identify outliers\n",
        "    outliers = ( ( df[col] < lower) | (df[col] > upper) )\n",
        "    index_label = df[outliers].index\n",
        "    print(f'Number of outliers in {col}: {len(index_label)}')\n",
        "    "
      ],
      "metadata": {
        "colab": {
          "base_uri": "https://localhost:8080/"
        },
        "id": "TR02a1QFxIwL",
        "outputId": "4b91948c-d97b-4f76-8a11-75e904851e94"
      },
      "execution_count": null,
      "outputs": [
        {
          "output_type": "stream",
          "name": "stdout",
          "text": [
            "Number of outliers in 2021 population: 26\n",
            "Number of outliers in 2020 population: 25\n",
            "Number of outliers in area: 25\n",
            "Number of outliers in density sq km: 21\n",
            "Number of outliers in growth rate: 1\n",
            "Number of outliers in population ratio: 26\n",
            "Number of outliers in rank: 0\n"
          ]
        }
      ]
    },
    {
      "cell_type": "code",
      "source": [
        "# Checking outliers\n",
        "plt.figure(figsize= (10,5))\n",
        "sns.boxplot(data=df['rank'],palette='rainbow',orient='h')"
      ],
      "metadata": {
        "colab": {
          "base_uri": "https://localhost:8080/",
          "height": 462
        },
        "id": "BMGyGQ3-tfgg",
        "outputId": "fa78a09e-076a-4288-8c73-ca0f339fca07"
      },
      "execution_count": null,
      "outputs": [
        {
          "output_type": "execute_result",
          "data": {
            "text/plain": [
              "<Axes: >"
            ]
          },
          "metadata": {},
          "execution_count": 13
        },
        {
          "output_type": "display_data",
          "data": {
            "text/plain": [
              "<Figure size 1000x500 with 1 Axes>"
            ],
            "image/png": "[encoded data removed]"
          },
          "metadata": {}
        }
      ]
    },
    {
      "cell_type": "code",
      "source": [
        "plt.figure(figsize= (10,5))\n",
        "sns.boxplot(data=df['population ratio'],palette='rainbow',orient='h')"
      ],
      "metadata": {
        "colab": {
          "base_uri": "https://localhost:8080/",
          "height": 462
        },
        "id": "lj3TN-1YuUFC",
        "outputId": "1b0bbf5c-0a78-49fc-f8c4-c28da23fd2c8"
      },
      "execution_count": null,
      "outputs": [
        {
          "output_type": "execute_result",
          "data": {
            "text/plain": [
              "<Axes: >"
            ]
          },
          "metadata": {},
          "execution_count": 14
        },
        {
          "output_type": "display_data",
          "data": {
            "text/plain": [
              "<Figure size 1000x500 with 1 Axes>"
            ],
            "image/png": "[encoded data removed]"
          },
          "metadata": {}
        }
      ]
    },
    {
      "cell_type": "code",
      "source": [
        "plt.figure(figsize= (10,5))\n",
        "sns.boxplot(data=df['growth rate'],palette='rainbow',orient='h')"
      ],
      "metadata": {
        "colab": {
          "base_uri": "https://localhost:8080/",
          "height": 462
        },
        "id": "80NfDzGyvtb6",
        "outputId": "f0db99a9-31e5-4fbf-81b5-2ed9b32a66ec"
      },
      "execution_count": null,
      "outputs": [
        {
          "output_type": "execute_result",
          "data": {
            "text/plain": [
              "<Axes: >"
            ]
          },
          "metadata": {},
          "execution_count": 15
        },
        {
          "output_type": "display_data",
          "data": {
            "text/plain": [
              "<Figure size 1000x500 with 1 Axes>"
            ],
            "image/png": "[encoded data removed]"
          },
          "metadata": {}
        }
      ]
    },
    {
      "cell_type": "code",
      "source": [
        "plt.figure(figsize= (10,5))\n",
        "sns.boxplot(data=df['density sq km'],palette='rainbow',orient='h')"
      ],
      "metadata": {
        "colab": {
          "base_uri": "https://localhost:8080/",
          "height": 462
        },
        "id": "Z7EaVkV7vtem",
        "outputId": "81769c5d-fab5-4f16-a81b-f76fb8a108c6"
      },
      "execution_count": null,
      "outputs": [
        {
          "output_type": "execute_result",
          "data": {
            "text/plain": [
              "<Axes: >"
            ]
          },
          "metadata": {},
          "execution_count": 16
        },
        {
          "output_type": "display_data",
          "data": {
            "text/plain": [
              "<Figure size 1000x500 with 1 Axes>"
            ],
            "image/png": "[encoded data removed]"
          },
          "metadata": {}
        }
      ]
    },
    {
      "cell_type": "code",
      "source": [
        "plt.figure(figsize= (10,5))\n",
        "sns.boxplot(data=df['area'],palette='rainbow',orient='h')"
      ],
      "metadata": {
        "colab": {
          "base_uri": "https://localhost:8080/",
          "height": 480
        },
        "id": "LibzY739vtg-",
        "outputId": "2d7929a8-0b6c-47a6-b1f5-d924e6b6278f"
      },
      "execution_count": null,
      "outputs": [
        {
          "output_type": "execute_result",
          "data": {
            "text/plain": [
              "<Axes: >"
            ]
          },
          "metadata": {},
          "execution_count": 17
        },
        {
          "output_type": "display_data",
          "data": {
            "text/plain": [
              "<Figure size 1000x500 with 1 Axes>"
            ],
            "image/png": "[encoded data removed]"
          },
          "metadata": {}
        }
      ]
    },
    {
      "cell_type": "code",
      "source": [
        "plt.figure(figsize= (10,5))\n",
        "sns.boxplot(data=df['2020 population'],palette='rainbow',orient='h')"
      ],
      "metadata": {
        "colab": {
          "base_uri": "https://localhost:8080/",
          "height": 480
        },
        "id": "FcYfQzvcvtjq",
        "outputId": "48a6141a-7f09-4590-814f-c25f63806cfc"
      },
      "execution_count": null,
      "outputs": [
        {
          "output_type": "execute_result",
          "data": {
            "text/plain": [
              "<Axes: >"
            ]
          },
          "metadata": {},
          "execution_count": 18
        },
        {
          "output_type": "display_data",
          "data": {
            "text/plain": [
              "<Figure size 1000x500 with 1 Axes>"
            ],
            "image/png": "[encoded data removed]"
          },
          "metadata": {}
        }
      ]
    },
    {
      "cell_type": "code",
      "source": [
        "plt.figure(figsize= (10,5))\n",
        "sns.boxplot(data=df['2021 population'],palette='rainbow',orient='h')"
      ],
      "metadata": {
        "colab": {
          "base_uri": "https://localhost:8080/",
          "height": 480
        },
        "id": "0JLeeICuvtnN",
        "outputId": "67d56fc6-4aa0-4e1f-c51e-029e1666cf1c"
      },
      "execution_count": null,
      "outputs": [
        {
          "output_type": "execute_result",
          "data": {
            "text/plain": [
              "<Axes: >"
            ]
          },
          "metadata": {},
          "execution_count": 19
        },
        {
          "output_type": "display_data",
          "data": {
            "text/plain": [
              "<Figure size 1000x500 with 1 Axes>"
            ],
            "image/png": "[encoded data removed]"
          },
          "metadata": {}
        }
      ]
    },
    {
      "cell_type": "markdown",
      "source": [
        "conclusion:\n",
        "\n",
        "all outliers make sense so we wont remove any of them"
      ],
      "metadata": {
        "id": "fgvTNxagwL-O"
      }
    },
    {
      "cell_type": "markdown",
      "source": [
        "# exporting data set for analysis"
      ],
      "metadata": {
        "id": "gvcYDEbSlLGr"
      }
    },
    {
      "cell_type": "code",
      "source": [
        "df.to_csv(\"analysis.csv\")"
      ],
      "metadata": {
        "id": "kVBSsOf0lPjo"
      },
      "execution_count": null,
      "outputs": []
    },
    {
      "cell_type": "markdown",
      "source": [
        "<span style=\"color: #02d9fa\">\n",
        "\n",
        "# Credits\n",
        "\n",
        "---\n",
        "\n",
        "## Content created by [ApplAi](https://www.linkedin.com/company/applaiasu/mycompany/)\n",
        "\n",
        "\n",
        "**Directed By:**\n",
        "- Director of Machine Learning and Training Department: [Eslam Shouman](https://www.linkedin.com/in/eslam-shouman-0958091b4/)\n",
        "\n",
        "**Team leader:**\n",
        "- [Ammar Thabet](https://www.linkedin.com/in/ammar-thabett)\n",
        "\n",
        "**Technical Team:**\n",
        "- [yara ihab](https://www.linkedin.com/in/yara-ihabb/)\n",
        "- [marina atef](https://www.linkedin.com/in/marina-atef-80a882263)\n",
        "- [ahmed yasser](https://www.linkedin.com/in/ahmed-yasser-5533b5258)\n",
        "- [mohamed samy](https://www.linkedin.com/in/mohamed-samy10/)\n",
        "\n",
        "## Date of creation\n",
        "\n",
        "- **30 April 2023**\n",
        "---\n",
        "</span>"
      ],
      "metadata": {
        "id": "bdlWTUA5oZVi"
      }
    }
  ]
}